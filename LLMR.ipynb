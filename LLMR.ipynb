{
 "cells": [
  {
   "cell_type": "code",
   "execution_count": 1,
   "id": "cc9fa429",
   "metadata": {},
   "outputs": [
    {
     "name": "stdout",
     "output_type": "stream",
     "text": [
      "The sky blue color is caused by the presence of various elements and compounds in the atmosphere. In general, the sky blueshade area is composed of clouds made up of tiny particles called aerosols that are suspended in the air. These aerosols absorb certain parts of the sun's visible light, causing the blue hue to appear. In addition, other factors such as cloud formations and temperature also play a role in determining the shade of blue seen from above.\n",
      "The sky blue color is caused by the presence of various elements and compounds in the atmosphere. In general, the sky blueshade area is composed of clouds made up of tiny particles called aerosols that are suspended in the air. These aerosols absorb certain parts of the sun's visible light, causing the blue hue to appear. In addition, other factors such as cloud formations and temperature also play a role in determining the shade of blue seen from above.\n"
     ]
    }
   ],
   "source": [
    "import ollama\n",
    "from ollama import chat\n",
    "from ollama import ChatResponse\n",
    "\n",
    "response: ChatResponse = chat(model='tinyllama', messages=[\n",
    "  {\n",
    "    'role': 'user',\n",
    "    'content': 'Why is the sky blue?',\n",
    "  },\n",
    "])\n",
    "print(response['message']['content'])\n",
    "# or access fields directly from the response object\n",
    "print(response.message.content)"
   ]
  }
 ],
 "metadata": {
  "kernelspec": {
   "display_name": "Python 3",
   "language": "python",
   "name": "python3"
  },
  "language_info": {
   "codemirror_mode": {
    "name": "ipython",
    "version": 3
   },
   "file_extension": ".py",
   "mimetype": "text/x-python",
   "name": "python",
   "nbconvert_exporter": "python",
   "pygments_lexer": "ipython3",
   "version": "3.13.1"
  }
 },
 "nbformat": 4,
 "nbformat_minor": 5
}
